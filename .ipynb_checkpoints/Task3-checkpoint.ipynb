{
 "cells": [
  {
   "cell_type": "markdown",
   "metadata": {},
   "source": [
    "# Task C Neural network (NN) implementation"
   ]
  },
  {
   "cell_type": "code",
   "execution_count": null,
   "metadata": {},
   "outputs": [],
   "source": [
    "import numpy as np\n",
    "import pandas as pd\n",
    "\n",
    "import matplotlib.pyplot as plt\n"
   ]
  },
  {
   "cell_type": "markdown",
   "metadata": {},
   "source": [
    "## 1.Data preprocess"
   ]
  },
  {
   "cell_type": "markdown",
   "metadata": {},
   "source": [
    "### 1.1 Read the original data and show its basic inforamtions"
   ]
  },
  {
   "cell_type": "code",
   "execution_count": 2,
   "metadata": {},
   "outputs": [],
   "source": [
    "raw_data = pd.read_csv('wine_2020.csv')\n",
    "raw_data.head()"
   ]
  },
  {
   "cell_type": "code",
   "execution_count": 4,
   "metadata": {
    "scrolled": true
   },
   "outputs": [
    {
     "name": "stdout",
     "output_type": "stream",
     "text": [
      "<class 'pandas.core.frame.DataFrame'>\n",
      "RangeIndex: 4000 entries, 0 to 3999\n",
      "Data columns (total 12 columns):\n",
      " #   Column                Non-Null Count  Dtype  \n",
      "---  ------                --------------  -----  \n",
      " 0   fixed acidity         4000 non-null   float64\n",
      " 1   volatile acidity      4000 non-null   float64\n",
      " 2   critric acid          4000 non-null   float64\n",
      " 3   residual sugar        4000 non-null   float64\n",
      " 4   chlorides             4000 non-null   float64\n",
      " 5   free sulfur dioxide   4000 non-null   float64\n",
      " 6   total sulfur dioxide  4000 non-null   float64\n",
      " 7   density               4000 non-null   float64\n",
      " 8   pH                    4000 non-null   float64\n",
      " 9   sulphates             4000 non-null   float64\n",
      " 10  alcohol               4000 non-null   float64\n",
      " 11  quality               4000 non-null   int64  \n",
      "dtypes: float64(11), int64(1)\n",
      "memory usage: 375.1 KB\n"
     ]
    }
   ],
   "source": [
    "raw_data.info()\n",
    "#non missing values"
   ]
  },
  {
   "cell_type": "markdown",
   "metadata": {},
   "source": [
    "#### Here we can see there no missing value and outliers need to preprocess"
   ]
  },
  {
   "cell_type": "markdown",
   "metadata": {},
   "source": [
    "### 1.2 Scale the data \n",
    "#### Scale the features and target by dividing maximum of each feature and target respectively."
   ]
  },
  {
   "cell_type": "code",
   "execution_count": 5,
   "metadata": {},
   "outputs": [
    {
     "name": "stdout",
     "output_type": "stream",
     "text": [
      "(4000, 11)\n"
     ]
    }
   ],
   "source": [
    "x = raw_data.iloc[:,:-1]\n",
    "x = x.div(x.max()).values\n",
    "\n",
    "y = raw_data.iloc[:,-1]\n",
    "y = y.div(y.max()).values.reshape(-1,1)\n",
    "print(x.shape)"
   ]
  },
  {
   "cell_type": "markdown",
   "metadata": {},
   "source": [
    "### 1.3 Initialize parameters for question(a)"
   ]
  },
  {
   "cell_type": "markdown",
   "metadata": {},
   "source": [
    "#### Building a 3-layer neural network (NO bias units for the input and hidden layers), \n",
    "#### with input_layer_size= 11, hidden_layer_size= 10, output_layer_size= 1.\n",
    "#### The learning rate α=0.0001."
   ]
  },
  {
   "cell_type": "code",
   "execution_count": 7,
   "metadata": {},
   "outputs": [],
   "source": [
    "input_layer_size= 11\n",
    "hidden_layer_size= 10\n",
    "output_layer_size= 1\n",
    "\n",
    "alpha= 0.0001"
   ]
  },
  {
   "cell_type": "markdown",
   "metadata": {},
   "source": [
    "#### Randomly initializing weights 𝑾(1) and 𝑾(2) using“np.random.seed(0)”."
   ]
  },
  {
   "cell_type": "markdown",
   "metadata": {},
   "source": [
    "\n",
    "np.random.seed(0)\n",
    "W1= np.random.randn(input_layer_size, hidden_layer_size)\n",
    "W2= np.random.randn(hidden_layer_size, output_layer_size)"
   ]
  },
  {
   "cell_type": "markdown",
   "metadata": {},
   "source": [
    "## 2. Define functions used for calculations"
   ]
  },
  {
   "attachments": {
    "image.png": {
     "image/png": "[encoded data removed]"
    }
   },
   "cell_type": "markdown",
   "metadata": {},
   "source": [
    "### a) Sigmoid function\n",
    "![image.png](attachment:image.png)"
   ]
  },
  {
   "cell_type": "code",
   "execution_count": null,
   "metadata": {},
   "outputs": [],
   "source": [
    "def sigmoid(x):\n",
    "    # our activation function: f(x) = 1 / (1 * e^(-x))\n",
    "    return (1 / (1+ np.exp(-x)))"
   ]
  },
  {
   "attachments": {
    "image.png": {
     "image/png": "[encoded data removed]"
    }
   },
   "cell_type": "markdown",
   "metadata": {},
   "source": [
    "### b) Derivative of Sigmoid function\n",
    "<img src=\"attachment:image.png\" width=\"200\">"
   ]
  },
  {
   "cell_type": "code",
   "execution_count": null,
   "metadata": {},
   "outputs": [],
   "source": [
    "def sigmoidDerivationx(y):\n",
    "    return (y * (1 - y))"
   ]
  },
  {
   "attachments": {
    "image.png": {
     "image/png": "[encoded data removed]"
    }
   },
   "cell_type": "markdown",
   "metadata": {},
   "source": [
    "### c) Test error function\n",
    "![image.png](attachment:image.png)"
   ]
  },
  {
   "cell_type": "code",
   "execution_count": null,
   "metadata": {},
   "outputs": [],
   "source": [
    "def test_error(loss):\n",
    "    return np.sum(np.power(loss,2))/2"
   ]
  },
  {
   "cell_type": "markdown",
   "metadata": {},
   "source": [
    "## 3. Building the Neural network"
   ]
  },
  {
   "cell_type": "markdown",
   "metadata": {},
   "source": [
    "### 3 steps:\n",
    "\n",
    "a. Bulid forward propagation to get loss function\n",
    "\n",
    "b. Bulid backward propagation to updated weight\n",
    "\n",
    "c. Build gradient descent to get best model "
   ]
  },
  {
   "attachments": {
    "image.png": {
     "image/png": "[encoded data removed]"
    }
   },
   "cell_type": "markdown",
   "metadata": {},
   "source": [
    "### 3.1 Forward propagation\n",
    "<img src=\"attachment:image.png\" width=\"400\">"
   ]
  },
  {
   "cell_type": "code",
   "execution_count": 131,
   "metadata": {},
   "outputs": [],
   "source": [
    "def forward(inputs,weight1,weight2):\n",
    "    z2 = np.dot(inputs,weight1) \n",
    "    a2 = sigmoid(z2)\n",
    "    z3 = np.dot(a2,weight2)\n",
    "    a3 = sigmoid(z3)\n",
    "    return a2,a3"
   ]
  },
  {
   "attachments": {
    "image.png": {
     "image/png": "[encoded data removed]"
    }
   },
   "cell_type": "markdown",
   "metadata": {},
   "source": [
    "### 3.2 Backward propagation\n",
    "![image.png](attachment:image.png)\n",
    "![image.png](attachment:image.png)"
   ]
  },
  {
   "cell_type": "code",
   "execution_count": 132,
   "metadata": {},
   "outputs": [],
   "source": [
    "def backward(forward,inputs):\n",
    "    delta3 = (forward[1]-y)*sigmoidDerivationx(forward[1])\n",
    "    dW2 = np.dot(forward[0].T,delta3)#forward[2].T.dot(delta3)\n",
    "    delta2 = (delta3*W2.T)*sigmoidDerivationx(forward[0])\n",
    "    dW1 = np.dot(a1.T,delta2)\n",
    "    return dW1,dW2"
   ]
  },
  {
   "attachments": {
    "image.png": {
     "image/png": "[encoded data removed]"
    }
   },
   "cell_type": "markdown",
   "metadata": {},
   "source": [
    "### 3.3 Gradient descent\n",
    "![image.png](attachment:image.png)"
   ]
  },
  {
   "cell_type": "code",
   "execution_count": null,
   "metadata": {},
   "outputs": [],
   "source": [
    "def gradient_descent(weight1,weight2,dW1,dW2,alpha):\n",
    "    newW1 = weight1 - alpha*dW1\n",
    "    newW2 = weight2 - alpha*dW2\n",
    "    return newW1,newW2   "
   ]
  },
  {
   "cell_type": "markdown",
   "metadata": {},
   "source": [
    "### 3.4 Implement the integrated Neural network model"
   ]
  },
  {
   "cell_type": "code",
   "execution_count": 204,
   "metadata": {},
   "outputs": [
    {
     "ename": "KeyboardInterrupt",
     "evalue": "",
     "output_type": "error",
     "traceback": [
      "\u001b[1;31m---------------------------------------------------------------------------\u001b[0m",
      "\u001b[1;31mKeyboardInterrupt\u001b[0m                         Traceback (most recent call last)",
      "\u001b[1;32m<ipython-input-204-eed4e4ca4372>\u001b[0m in \u001b[0;36m<module>\u001b[1;34m\u001b[0m\n\u001b[0;32m      9\u001b[0m     \u001b[0mW1\u001b[0m \u001b[1;33m=\u001b[0m \u001b[0mresult_gradient\u001b[0m\u001b[1;33m[\u001b[0m\u001b[1;36m0\u001b[0m\u001b[1;33m]\u001b[0m\u001b[1;33m\u001b[0m\u001b[1;33m\u001b[0m\u001b[0m\n\u001b[0;32m     10\u001b[0m     \u001b[0mW2\u001b[0m \u001b[1;33m=\u001b[0m \u001b[0mresult_gradient\u001b[0m\u001b[1;33m[\u001b[0m\u001b[1;36m1\u001b[0m\u001b[1;33m]\u001b[0m\u001b[1;33m\u001b[0m\u001b[1;33m\u001b[0m\u001b[0m\n\u001b[1;32m---> 11\u001b[1;33m     \u001b[0mresult_forward_new\u001b[0m \u001b[1;33m=\u001b[0m \u001b[0mforward\u001b[0m\u001b[1;33m(\u001b[0m\u001b[0ma1\u001b[0m\u001b[1;33m,\u001b[0m\u001b[0mW1\u001b[0m\u001b[1;33m,\u001b[0m\u001b[0mW2\u001b[0m\u001b[1;33m)\u001b[0m\u001b[1;33m\u001b[0m\u001b[1;33m\u001b[0m\u001b[0m\n\u001b[0m\u001b[0;32m     12\u001b[0m     \u001b[0mloss\u001b[0m \u001b[1;33m=\u001b[0m \u001b[0mresult_forward_new\u001b[0m\u001b[1;33m[\u001b[0m\u001b[1;36m1\u001b[0m\u001b[1;33m]\u001b[0m\u001b[1;33m-\u001b[0m\u001b[0my\u001b[0m\u001b[1;33m\u001b[0m\u001b[1;33m\u001b[0m\u001b[0m\n\u001b[0;32m     13\u001b[0m     \u001b[0mloss_set\u001b[0m\u001b[1;33m.\u001b[0m\u001b[0mappend\u001b[0m\u001b[1;33m(\u001b[0m\u001b[0mtest_error\u001b[0m\u001b[1;33m(\u001b[0m\u001b[0mloss\u001b[0m\u001b[1;33m)\u001b[0m\u001b[1;33m)\u001b[0m\u001b[1;33m\u001b[0m\u001b[1;33m\u001b[0m\u001b[0m\n",
      "\u001b[1;32m<ipython-input-131-9cf424abc318>\u001b[0m in \u001b[0;36mforward\u001b[1;34m(inputs, weight1, weight2)\u001b[0m\n\u001b[0;32m      3\u001b[0m \u001b[1;33m\u001b[0m\u001b[0m\n\u001b[0;32m      4\u001b[0m \u001b[1;32mdef\u001b[0m \u001b[0mforward\u001b[0m\u001b[1;33m(\u001b[0m\u001b[0minputs\u001b[0m\u001b[1;33m,\u001b[0m\u001b[0mweight1\u001b[0m\u001b[1;33m,\u001b[0m\u001b[0mweight2\u001b[0m\u001b[1;33m)\u001b[0m\u001b[1;33m:\u001b[0m\u001b[1;33m\u001b[0m\u001b[1;33m\u001b[0m\u001b[0m\n\u001b[1;32m----> 5\u001b[1;33m     \u001b[0mz2\u001b[0m \u001b[1;33m=\u001b[0m \u001b[0mnp\u001b[0m\u001b[1;33m.\u001b[0m\u001b[0mdot\u001b[0m\u001b[1;33m(\u001b[0m\u001b[0minputs\u001b[0m\u001b[1;33m,\u001b[0m\u001b[0mweight1\u001b[0m\u001b[1;33m)\u001b[0m\u001b[1;33m\u001b[0m\u001b[1;33m\u001b[0m\u001b[0m\n\u001b[0m\u001b[0;32m      6\u001b[0m     \u001b[0ma2\u001b[0m \u001b[1;33m=\u001b[0m \u001b[0msigmoid\u001b[0m\u001b[1;33m(\u001b[0m\u001b[0mz2\u001b[0m\u001b[1;33m)\u001b[0m\u001b[1;33m\u001b[0m\u001b[1;33m\u001b[0m\u001b[0m\n\u001b[0;32m      7\u001b[0m     \u001b[0mz3\u001b[0m \u001b[1;33m=\u001b[0m \u001b[0mnp\u001b[0m\u001b[1;33m.\u001b[0m\u001b[0mdot\u001b[0m\u001b[1;33m(\u001b[0m\u001b[0ma2\u001b[0m\u001b[1;33m,\u001b[0m\u001b[0mweight2\u001b[0m\u001b[1;33m)\u001b[0m\u001b[1;33m\u001b[0m\u001b[1;33m\u001b[0m\u001b[0m\n",
      "\u001b[1;32m<__array_function__ internals>\u001b[0m in \u001b[0;36mdot\u001b[1;34m(*args, **kwargs)\u001b[0m\n",
      "\u001b[1;31mKeyboardInterrupt\u001b[0m: "
     ]
    }
   ],
   "source": [
    "#store the loss to plot\n",
    "loss_set=[]\n",
    "\n",
    "for i in range(10000):\n",
    "    result_forward = forward(a1,W1,W2)\n",
    "    #loss = result_forward[1]-y\n",
    "    result_backward = backward(result_forward,a1)\n",
    "    result_gradient = gradient_descent(W1,W2,result_backward[0],result_backward[1],alpha)\n",
    "    W1 = result_gradient[0]\n",
    "    W2 = result_gradient[1]\n",
    "    result_forward_new = forward(a1,W1,W2)\n",
    "    loss = result_forward_new[1]-y\n",
    "    loss_set.append(test_error(loss))  \n",
    "    \n",
    "\n"
   ]
  },
  {
   "cell_type": "markdown",
   "metadata": {},
   "source": [
    "\n",
    "loss_set1=[]\n",
    "for i in range(10000):\n",
    "    z2 = np.dot(a1,W1) \n",
    "    a2 = sigmoid(z2)\n",
    "    z3 = np.dot(a2,W2)\n",
    "    a3 = sigmoid(z3)#最后的结果 但是没有做loss\n",
    "    \n",
    "    \n",
    "    delta3 = (a3-y)*sigmoidDerivationx(a3)\n",
    "    dW2 = a2.T.dot(delta3)\n",
    "    delta2 = (delta3*W2.T)*sigmoidDerivationx(a2)\n",
    "    dW1 = a1.T.dot(delta2)\n",
    "    \n",
    "    \n",
    "    W1 = W1 - alpha*dW1\n",
    "    W2 = W2 - alpha*dW2\n",
    "    \n",
    "    z2 = np.dot(a1,W1)\n",
    "    a2 = sigmoid(z2)\n",
    "    z3 = np.dot(a2,W2)\n",
    "    a3 = sigmoid(z3)\n",
    "    loss = a3 - y\n",
    "    \n",
    "    loss_set1.append(test_error(loss))\n",
    "    \n",
    "    \n",
    "    \n",
    "\n"
   ]
  },
  {
   "cell_type": "markdown",
   "metadata": {},
   "source": [
    "### 4. Plot the loss function values"
   ]
  },
  {
   "cell_type": "code",
   "execution_count": 157,
   "metadata": {},
   "outputs": [
    {
     "data": {
      "image/png": "[encoded data removed]",
      "text/plain": [
       "<Figure size 432x288 with 1 Axes>"
      ]
     },
     "metadata": {
      "needs_background": "light"
     },
     "output_type": "display_data"
    }
   ],
   "source": [
    "plt.figure()\n",
    "plt.plot(np.arange(1,10001),loss_set)\n",
    "plt.show()"
   ]
  },
  {
   "cell_type": "markdown",
   "metadata": {},
   "source": [
    "#### Report the final loss"
   ]
  },
  {
   "cell_type": "code",
   "execution_count": 206,
   "metadata": {},
   "outputs": [
    {
     "name": "stdout",
     "output_type": "stream",
     "text": [
      "The final loss is :  9.80800226083515\n"
     ]
    }
   ],
   "source": [
    "print('The final loss is : ',loss_set[-1])"
   ]
  },
  {
   "cell_type": "markdown",
   "metadata": {},
   "source": [
    "#### Report the final estimated weights 𝑾(1) and 𝑾(2)."
   ]
  },
  {
   "cell_type": "code",
   "execution_count": 207,
   "metadata": {},
   "outputs": [
    {
     "name": "stdout",
     "output_type": "stream",
     "text": [
      "The final W1 is :  [[ 1.78547062  0.39769748  0.99447412  2.06506461  1.84888174 -1.0443066\n",
      "   0.85991495  0.11385395  0.11243392  0.39913799 -0.56966047  1.43493258\n",
      "   0.48363548 -0.74844856]\n",
      " [ 0.4356101   0.33873507  1.43097252 -0.12030933  0.3992562  -0.8492885\n",
      "  -2.56012165  0.45673423  0.77040072 -0.73654973  2.35507491 -1.48744221\n",
      "   0.14293756  0.06633631]\n",
      " [ 1.51336687  1.47924514 -0.00947064  0.65762037 -0.64823228 -1.93277518\n",
      "  -0.33077414 -0.33039002  0.91948305  1.20646971  0.00595492 -0.36396568\n",
      "  -0.73117146 -0.58053446]\n",
      " [-1.70684012  1.95166669 -0.52584667 -0.42164491 -1.22917243  0.77730674\n",
      "  -1.61896856 -0.24448711 -0.91195992  0.38685719 -0.52317    -1.1907339\n",
      "  -0.01533816  0.45298656]\n",
      " [ 0.05919472  0.31026294 -0.75795933 -0.18941066 -0.49479067 -0.33686306\n",
      "  -0.82159722 -2.06598051 -0.00670012 -0.40305744 -1.47503573  0.41754813\n",
      "  -0.73913256  0.41603512]\n",
      " [ 0.72928035  0.13265568  1.09590221 -1.25294265  0.46883812 -0.70964218\n",
      "  -0.90837073 -0.64326051 -0.29901694  0.05578804 -1.3644411   0.87178823\n",
      "   0.43553417 -1.6177021 ]\n",
      " [ 1.49522893  1.89796754  1.131849   -0.12757487 -0.95811913  1.05392691\n",
      "  -0.44500188  1.12534131  0.16326206  0.96668724  0.18063973  0.67190836\n",
      "   0.01792285  1.57640053]\n",
      " [ 0.11761325  0.41466596  1.70693194 -1.19321975 -1.04561122  0.96253423\n",
      "  -1.22174906  1.53793433 -0.57313237 -0.74260516  1.90984618  1.39707008\n",
      "   2.00627228  1.16855187]\n",
      " [-0.85904461  1.91822294 -0.39113346  0.88596727  1.12009091 -0.16857463\n",
      "   0.55524935  0.72017701  0.30305337 -1.10436898  0.07230235  1.26090236\n",
      "  -0.66213445 -0.21914701]\n",
      " [-0.433054    1.85319963  0.59857204  0.446977   -0.66467138  0.52404564\n",
      "  -0.7195284  -0.07491969 -0.66471729  0.67350701  0.36272751 -0.25456151\n",
      "   0.39576828 -1.17964202]\n",
      " [-1.49075227  0.44685361  0.05557075  0.68850478  2.52484305  0.92381072\n",
      "  -0.96787006  0.92804278 -1.361505   -0.46259487 -0.27633011  1.65505432\n",
      "  -0.73447945 -0.90924421]]\n"
     ]
    }
   ],
   "source": [
    "print('The final W1 is : ',W1)"
   ]
  },
  {
   "cell_type": "code",
   "execution_count": 208,
   "metadata": {},
   "outputs": [
    {
     "name": "stdout",
     "output_type": "stream",
     "text": [
      "The final W2 is :  [[ 0.13703474]\n",
      " [-0.91989429]\n",
      " [ 1.02511012]\n",
      " [ 0.19452994]\n",
      " [ 0.24195636]\n",
      " [ 0.14025922]\n",
      " [-0.36766257]\n",
      " [ 1.9198487 ]\n",
      " [-0.04270422]\n",
      " [-0.10432919]\n",
      " [-1.53830791]\n",
      " [ 0.67712193]\n",
      " [-0.25430265]\n",
      " [-1.71421572]]\n"
     ]
    }
   ],
   "source": [
    "print('The final W2 is : ',W2)"
   ]
  },
  {
   "cell_type": "markdown",
   "metadata": {},
   "source": [
    "#### Plot the final predict target values and observed target values"
   ]
  },
  {
   "cell_type": "code",
   "execution_count": 209,
   "metadata": {
    "scrolled": true
   },
   "outputs": [
    {
     "data": {
      "image/png": "[encoded data removed]",
      "text/plain": [
       "<Figure size 432x288 with 1 Axes>"
      ]
     },
     "metadata": {
      "needs_background": "light"
     },
     "output_type": "display_data"
    }
   ],
   "source": [
    "plt.figure()\n",
    "plt.scatter(result_forward[1],y)\n",
    "plt.show()"
   ]
  },
  {
   "cell_type": "markdown",
   "metadata": {},
   "source": [
    "## 5. Optimize the hidden layer"
   ]
  },
  {
   "cell_type": "markdown",
   "metadata": {},
   "source": [
    "Set the parameters"
   ]
  },
  {
   "cell_type": "code",
   "execution_count": 210,
   "metadata": {},
   "outputs": [],
   "source": [
    "input_layer_size= 11\n",
    "output_layer_size= 1\n",
    "\n",
    "alpha= 0.0001\n",
    "\n",
    "a1 = x"
   ]
  },
  {
   "cell_type": "code",
   "execution_count": 211,
   "metadata": {},
   "outputs": [],
   "source": [
    "loss_opt_hidden = []\n",
    "loss_opt_hidden_width = []\n",
    "\n",
    "for i in range(5,15):\n",
    "    #set parameter\n",
    "    input_layer_size= 11\n",
    "    hidden_layer_size= i\n",
    "    output_layer_size= 1\n",
    "    np.random.seed(0)\n",
    "    W1= np.random.randn(input_layer_size, hidden_layer_size)\n",
    "    W2= np.random.randn(hidden_layer_size, output_layer_size)\n",
    "  \n",
    "    for i in range(10000):\n",
    "        result_forward = forward(a1,W1,W2)\n",
    "        #loss = result_forward[1]-y\n",
    "        result_backward = backward(result_forward,a1)\n",
    "        result_gradient = gradient_descent(W1,W2,result_backward[0],result_backward[1],alpha)\n",
    "        W1 = result_gradient[0]\n",
    "        W2 = result_gradient[1]\n",
    "        result_forward_new = forward(a1,W1,W2)\n",
    "        loss = result_forward_new[1]-y\n",
    "        loss_opt_hidden.append(test_error(loss))\n",
    "    #collect loss result of different hidden layers\n",
    "    loss_opt_hidden_width.append(test_error(loss))\n",
    "    \n"
   ]
  },
  {
   "cell_type": "markdown",
   "metadata": {},
   "source": [
    "#### Best hidden layer"
   ]
  },
  {
   "cell_type": "code",
   "execution_count": 215,
   "metadata": {},
   "outputs": [
    {
     "data": {
      "text/plain": [
       "9"
      ]
     },
     "execution_count": 215,
     "metadata": {},
     "output_type": "execute_result"
    }
   ],
   "source": [
    "np.argmin(loss_opt_hidden_width)"
   ]
  },
  {
   "cell_type": "markdown",
   "metadata": {},
   "source": [
    "## 6. Optimize the alpha and hidden layer"
   ]
  },
  {
   "cell_type": "code",
   "execution_count": 216,
   "metadata": {},
   "outputs": [],
   "source": [
    "alpha_list = [0.001,0.0001,0.00001]"
   ]
  },
  {
   "cell_type": "code",
   "execution_count": 218,
   "metadata": {},
   "outputs": [],
   "source": [
    "loss_opt_alpha = []\n",
    "loss_opt_alpha_width =[]\n",
    "#loss_opt_alpha_width = []\n",
    "\n",
    "for alpha in alpha_list:\n",
    "    for i in range(5,15):\n",
    "    #set parameter\n",
    "        input_layer_size= 11\n",
    "        hidden_layer_size= i\n",
    "        output_layer_size= 1 \n",
    "        \n",
    "        np.random.seed(0)\n",
    "        W1= np.random.randn(input_layer_size, hidden_layer_size)\n",
    "        W2= np.random.randn(hidden_layer_size, output_layer_size)\n",
    "        \n",
    "        for i in range(10000):\n",
    "            result_forward = forward(a1,W1,W2)\n",
    "            #loss = result_forward[1]-y\n",
    "            result_backward = backward(result_forward,a1)\n",
    "            result_gradient = gradient_descent(W1,W2,result_backward[0],result_backward[1],alpha)\n",
    "            W1 = result_gradient[0]\n",
    "            W2 = result_gradient[1]\n",
    "            result_forward_new = forward(a1,W1,W2)\n",
    "            loss = result_forward_new[1]-y\n",
    "            #loss_opt_alpha(test_error(loss))\n",
    "        loss_opt_alpha_width.append(test_error(loss))\n",
    "    "
   ]
  },
  {
   "cell_type": "markdown",
   "metadata": {},
   "source": [
    "#### Best alpha and hidden layer"
   ]
  },
  {
   "cell_type": "code",
   "execution_count": 225,
   "metadata": {},
   "outputs": [
    {
     "data": {
      "text/plain": [
       "array([[ 5.97079807,  5.92417922,  5.87118072,  5.88153585,  5.90411323,\n",
       "         5.89759423,  5.85249541,  5.89330079,  5.93078535,  5.8602683 ],\n",
       "       [13.13209694,  8.55809719, 10.93011603, 12.61687602,  8.6568066 ,\n",
       "         8.7247703 ,  9.2814904 , 10.25027712, 10.34182119,  7.69753169],\n",
       "       [18.6019262 , 17.07558573, 16.19128894, 18.86251301, 15.43201762,\n",
       "        20.23077737, 19.60219386, 15.32363126, 20.73734031, 21.93805799]])"
      ]
     },
     "execution_count": 225,
     "metadata": {},
     "output_type": "execute_result"
    }
   ],
   "source": [
    "np.reshape(loss_opt_alpha_width,(3,10))"
   ]
  },
  {
   "cell_type": "code",
   "execution_count": 226,
   "metadata": {},
   "outputs": [
    {
     "name": "stdout",
     "output_type": "stream",
     "text": [
      "The best alpha is:  0.001 The best hidden layer is :  11\n"
     ]
    }
   ],
   "source": [
    "print('The best alpha is: ', 0.001,'The best hidden layer is : ',11)"
   ]
  },
  {
   "cell_type": "markdown",
   "metadata": {},
   "source": [
    "## 7. Optimize hidden layer, alpha and iteration time "
   ]
  },
  {
   "cell_type": "code",
   "execution_count": 190,
   "metadata": {},
   "outputs": [],
   "source": [
    "alpha_list = [0.001,0.0001,0.00001]\n",
    "iteration_list = [1000,5000,10000,20000,50000]\n",
    "a1 = x"
   ]
  },
  {
   "cell_type": "code",
   "execution_count": 192,
   "metadata": {},
   "outputs": [],
   "source": [
    "loss_opt_iterate = []\n",
    "loss_opt_iterate_width =[]\n",
    "#loss_opt_iterate_width = []\n",
    "\n",
    "for iterate in iteration_list:\n",
    "    for alpha in alpha_list:\n",
    "        for i in range(8,15):\n",
    "    #set parameter\n",
    "            input_layer_size= 11\n",
    "            hidden_layer_size= i\n",
    "            output_layer_size= 1 \n",
    "        \n",
    "            np.random.seed(0)\n",
    "            W1= np.random.randn(input_layer_size, hidden_layer_size)\n",
    "            W2= np.random.randn(hidden_layer_size, output_layer_size)\n",
    "        \n",
    "            a1 = x \n",
    "        #set alpha\n",
    "        #alpha= 0.0001\n",
    "        #set a1 = feature dataset        \n",
    "            for i in range(iterate):\n",
    "                result_forward = forward(a1,W1,W2)\n",
    "            #loss = result_forward[1]-y\n",
    "                result_backward = backward(result_forward,a1)\n",
    "                result_gradient = gradient_descent(W1,W2,result_backward[0],result_backward[1],alpha)\n",
    "                W1 = result_gradient[0]\n",
    "                W2 = result_gradient[1]\n",
    "                result_forward_new = forward(a1,W1,W2)\n",
    "                loss = result_forward_new[1]-y\n",
    "                loss_opt_iterate.append(test_error(loss))\n",
    "    #collect loss result of different hidden layers\n",
    "            loss_opt_iterate_width.append(test_error(loss))#7x3x5 个\n",
    "        #loss_opt_alpha_width.append(test_error(loss))\n",
    "    #loss_opt_alpha_width.append(loss_opt_hidden_alpha_width)#min"
   ]
  },
  {
   "cell_type": "markdown",
   "metadata": {},
   "source": [
    "#### Best hidden layer,alpha and iteration time"
   ]
  },
  {
   "cell_type": "code",
   "execution_count": 235,
   "metadata": {},
   "outputs": [
    {
     "data": {
      "text/plain": [
       "array([[[12.61792319,  8.6578018 ,  8.72741097,  9.28334899,\n",
       "         10.25274534, 10.3438457 ,  7.69045101],\n",
       "        [18.86180108, 15.43068427, 20.23138648, 19.60109555,\n",
       "         15.32414919, 20.73578471, 21.93971908],\n",
       "        [23.71750602, 27.20014225, 32.61510362, 28.52342006,\n",
       "         16.64672021, 34.63583812, 34.89587684]],\n",
       "\n",
       "       [[ 6.12681203,  6.09656728,  5.95376287,  5.9784545 ,\n",
       "          6.12355779,  6.03021698,  6.02413488],\n",
       "        [14.38362202, 10.30244413, 11.51331437, 11.56201728,\n",
       "         12.09295935, 13.10445806, 10.12157887],\n",
       "        [20.95621044, 19.4810575 , 24.83797748, 23.35470854,\n",
       "         16.00356202, 25.23771422, 27.18961106]],\n",
       "\n",
       "       [[ 5.88153585,  5.90411323,  5.89759423,  5.85249541,\n",
       "          5.89330079,  5.93078535,  5.8602683 ],\n",
       "        [12.61687602,  8.6568066 ,  8.7247703 ,  9.2814904 ,\n",
       "         10.25027712, 10.34182119,  7.69753169],\n",
       "        [18.86251301, 15.43201762, 20.23077737, 19.60219386,\n",
       "         15.32363126, 20.73734031, 21.93805799]],\n",
       "\n",
       "       [[ 5.76193475,  5.76518566,  5.85051813,  5.77209355,\n",
       "          5.78392781,  5.85331482,  5.7404897 ],\n",
       "        [ 9.53737518,  7.03868992,  6.65176067,  7.07567847,\n",
       "          8.00443912,  7.3137772 ,  6.69069314],\n",
       "        [16.69308006, 12.55728832, 16.1061846 , 15.59652399,\n",
       "         14.21630206, 16.98052729, 16.72450025]],\n",
       "\n",
       "       [[ 5.61969405,  5.60651167,  5.69217852,  5.6371402 ,\n",
       "          5.6352304 ,  5.71008131,  5.6132252 ],\n",
       "        [ 6.12663945,  6.09655577,  5.9535116 ,  5.97842796,\n",
       "          6.12397773,  6.03002953,  6.02294177],\n",
       "        [14.38368911, 10.30238259, 11.51258737, 11.56195108,\n",
       "         12.09273087, 13.10440902, 10.12289678]]])"
      ]
     },
     "execution_count": 235,
     "metadata": {},
     "output_type": "execute_result"
    }
   ],
   "source": [
    "np.argmin(loss_opt_iterate_width)\n",
    "np.reshape(loss_opt_iterate_width, (5,3,7))\n",
    "\n",
    "#best parameter"
   ]
  },
  {
   "cell_type": "code",
   "execution_count": 227,
   "metadata": {},
   "outputs": [
    {
     "name": "stdout",
     "output_type": "stream",
     "text": [
      "The best alpha is:  0.001 The best hidden layer is :  9 The best iteration time is :  50000\n"
     ]
    }
   ],
   "source": [
    "#hidden layer = 9\n",
    "#alpha = 0.001\n",
    "#iter = 50000\n",
    "print('The best alpha is: ', 0.0001,'The best hidden layer is : ',9 , 'The best iteration time is : ',50000)"
   ]
  },
  {
   "cell_type": "code",
   "execution_count": null,
   "metadata": {},
   "outputs": [],
   "source": []
  }
 ],
 "metadata": {
  "kernelspec": {
   "display_name": "Python 3",
   "language": "python",
   "name": "python3"
  },
  "language_info": {
   "codemirror_mode": {
    "name": "ipython",
    "version": 3
   },
   "file_extension": ".py",
   "mimetype": "text/x-python",
   "name": "python",
   "nbconvert_exporter": "python",
   "pygments_lexer": "ipython3",
   "version": "3.8.3"
  }
 },
 "nbformat": 4,
 "nbformat_minor": 2
}
