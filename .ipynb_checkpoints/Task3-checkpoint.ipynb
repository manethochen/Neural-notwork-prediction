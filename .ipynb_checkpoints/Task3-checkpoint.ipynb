{
 "cells": [
  {
   "cell_type": "markdown",
   "metadata": {},
   "source": [
    "# Task C Neural network (NN) implementation"
   ]
  },
  {
   "cell_type": "code",
   "execution_count": null,
   "metadata": {},
   "outputs": [],
   "source": [
    "import numpy as np\n",
    "import pandas as pd\n",
    "\n",
    "import matplotlib.pyplot as plt\n"
   ]
  },
  {
   "cell_type": "markdown",
   "metadata": {},
   "source": [
    "## 1.Data preprocess"
   ]
  },
  {
   "cell_type": "markdown",
   "metadata": {},
   "source": [
    "### 1.1 Read the original data and show its basic inforamtions"
   ]
  },
  {
   "cell_type": "code",
   "execution_count": 2,
   "metadata": {},
   "outputs": [],
   "source": [
    "raw_data = pd.read_csv('wine_2020.csv')\n",
    "raw_data.head()"
   ]
  },
  {
   "cell_type": "code",
   "execution_count": 4,
   "metadata": {
    "scrolled": true
   },
   "outputs": [
    {
     "name": "stdout",
     "output_type": "stream",
     "text": [
      "<class 'pandas.core.frame.DataFrame'>\n",
      "RangeIndex: 4000 entries, 0 to 3999\n",
      "Data columns (total 12 columns):\n",
      " #   Column                Non-Null Count  Dtype  \n",
      "---  ------                --------------  -----  \n",
      " 0   fixed acidity         4000 non-null   float64\n",
      " 1   volatile acidity      4000 non-null   float64\n",
      " 2   critric acid          4000 non-null   float64\n",
      " 3   residual sugar        4000 non-null   float64\n",
      " 4   chlorides             4000 non-null   float64\n",
      " 5   free sulfur dioxide   4000 non-null   float64\n",
      " 6   total sulfur dioxide  4000 non-null   float64\n",
      " 7   density               4000 non-null   float64\n",
      " 8   pH                    4000 non-null   float64\n",
      " 9   sulphates             4000 non-null   float64\n",
      " 10  alcohol               4000 non-null   float64\n",
      " 11  quality               4000 non-null   int64  \n",
      "dtypes: float64(11), int64(1)\n",
      "memory usage: 375.1 KB\n"
     ]
    }
   ],
   "source": [
    "raw_data.info()\n",
    "#non missing values"
   ]
  },
  {
   "cell_type": "markdown",
   "metadata": {},
   "source": [
    "#### Here we can see there no missing value and outliers need to preprocess"
   ]
  },
  {
   "cell_type": "code",
   "execution_count": null,
   "metadata": {},
   "outputs": [],
   "source": [
    "### 1.2"
   ]
  },
  {
   "cell_type": "code",
   "execution_count": 5,
   "metadata": {},
   "outputs": [
    {
     "name": "stdout",
     "output_type": "stream",
     "text": [
      "(4000, 11)\n"
     ]
    }
   ],
   "source": [
    "#SCALE\n",
    "x = raw_data.iloc[:,:-1]\n",
    "x = x.div(x.max()).values\n",
    "\n",
    "y = raw_data.iloc[:,-1]\n",
    "y = y.div(y.max()).values.reshape(-1,1)\n",
    "print(x.shape)"
   ]
  },
  {
   "cell_type": "code",
   "execution_count": 6,
   "metadata": {},
   "outputs": [],
   "source": [
    "###Scale by maximum"
   ]
  },
  {
   "cell_type": "markdown",
   "metadata": {},
   "source": [
    "#train _test split\n",
    "X_train, X_test, y_train, y_test = train_test_split(x, y, test_size=0.3)\n",
    "X_train.info()\n",
    "#2800"
   ]
  },
  {
   "cell_type": "markdown",
   "metadata": {},
   "source": [
    "y_train"
   ]
  },
  {
   "cell_type": "code",
   "execution_count": 7,
   "metadata": {},
   "outputs": [],
   "source": [
    "## Initialize Neural Network\n",
    "## parameter 3 layer，input layer size 11，hidden layer 10，out layer 1\n",
    "#active function segmoid\n",
    "#alpha 0.00001\n",
    "input_layer_size= 11\n",
    "hidden_layer_size= 10\n",
    "output_layer_size= 1\n",
    "\n",
    "# initialize the weights parameters\n",
    "np.random.seed(0)\n",
    "W1= np.random.randn(input_layer_size, hidden_layer_size)\n",
    "W2= np.random.randn(hidden_layer_size, output_layer_size)\n",
    "# define learning rate of gradient descent\n",
    "alpha= 0.0001\n",
    "\n",
    "a1 = x"
   ]
  },
  {
   "cell_type": "markdown",
   "metadata": {},
   "source": [
    "#scale\n",
    "W1"
   ]
  },
  {
   "cell_type": "code",
   "execution_count": 9,
   "metadata": {},
   "outputs": [],
   "source": [
    "##3 steps \n",
    "#1. forward propagation to get loss function\n",
    "#2. back propagation to updated weight\n",
    "#3. gradient descent to get best model "
   ]
  },
  {
   "cell_type": "code",
   "execution_count": 111,
   "metadata": {},
   "outputs": [],
   "source": [
    "## define active function\n",
    "def sigmoid(x):\n",
    "    # our activation function: f(x) = 1 / (1 * e^(-x))\n",
    "    return (1 / (1+ np.exp(-x)))\n",
    "\n",
    "def sigmoidDerivationx(y):\n",
    "    return (y * (1 - y))\n",
    "\n",
    "def test_error(loss):\n",
    "    #for i in range(len(pred)):\n",
    "        #result = result + (pred[i] - test[i])**2/2\n",
    "    return np.sum(np.power(loss,2))/2"
   ]
  },
  {
   "cell_type": "markdown",
   "metadata": {},
   "source": [
    "\n",
    "\n",
    "delta3 = (a3-np.array(y_train).reshape(-1,1))*sigmoidDerivationx(z3)\n",
    "dW2 = a2.T.dot(delta3)\n",
    "delta2 = (delta3.dot(W2.T))*sigmoidDerivationx(z2)\n",
    "dw1 = a1.T.dot(delta2)\n",
    "# 10x10\n"
   ]
  },
  {
   "cell_type": "code",
   "execution_count": 131,
   "metadata": {},
   "outputs": [],
   "source": [
    "#forward propagation\n",
    "#loss function \n",
    "\n",
    "def forward(inputs,weight1,weight2):\n",
    "    z2 = np.dot(inputs,weight1) \n",
    "    a2 = sigmoid(z2)\n",
    "    z3 = np.dot(a2,weight2)\n",
    "    a3 = sigmoid(z3)#最后的结果 但是没有做loss\n",
    "    return a2,a3"
   ]
  },
  {
   "cell_type": "code",
   "execution_count": 132,
   "metadata": {},
   "outputs": [],
   "source": [
    "# back propagation\n",
    "def backward(forward,inputs):\n",
    "    delta3 = (forward[1]-y)*sigmoidDerivationx(forward[1])\n",
    "    dW2 = np.dot(forward[0].T,delta3)#forward[2].T.dot(delta3)\n",
    "    delta2 = (delta3*W2.T)*sigmoidDerivationx(forward[0])\n",
    "    dW1 = np.dot(a1.T,delta2)\n",
    "    return dW1,dW2\n",
    "         "
   ]
  },
  {
   "cell_type": "code",
   "execution_count": 133,
   "metadata": {},
   "outputs": [],
   "source": [
    "def gradient_descent(weight1,weight2,dW1,dW2,alpha):\n",
    "    newW1 = weight1 - alpha*dW1\n",
    "    newW2 = weight2 - alpha*dW2\n",
    "    return newW1,newW2\n",
    "    "
   ]
  },
  {
   "cell_type": "code",
   "execution_count": 155,
   "metadata": {},
   "outputs": [],
   "source": [
    "#to store loss for plot\n",
    "loss_set=[]\n",
    "for i in range(10000):\n",
    "    result_forward = forward(a1,W1,W2)\n",
    "    #loss = result_forward[1]-y\n",
    "    result_backward = backward(result_forward,a1)\n",
    "    result_gradient = gradient_descent(W1,W2,result_backward[0],result_backward[1],alpha)\n",
    "    W1 = result_gradient[0]\n",
    "    W2 = result_gradient[1]\n",
    "    result_forward_new = forward(a1,W1,W2)\n",
    "    loss = result_forward_new[1]-y\n",
    "    loss_set.append(test_error(loss))  \n",
    "    \n",
    "\n"
   ]
  },
  {
   "cell_type": "markdown",
   "metadata": {},
   "source": [
    "loss_set"
   ]
  },
  {
   "cell_type": "markdown",
   "metadata": {},
   "source": [
    "#one iteration\n",
    "#再用新的dw1 dw2 去run fo\n",
    "#先试一次\n",
    "result_forward = forward(a1,W1,W2)\n",
    "result_backward = backward(result_forward,a1)\n",
    "result_gradient = gradient_descent(W1,W2,result_backward[0],result_backward[1],alpha)\n",
    "result_gradient"
   ]
  },
  {
   "cell_type": "markdown",
   "metadata": {},
   "source": [
    "##\n",
    "%time\n",
    "#iteration = 10000\n",
    "\n",
    "for i in range(10000):\n",
    "    result_forward = forward(a1,W1,W2)\n",
    "    result_backward = backward(result_forward,a1)\n",
    "    result_gradient = gradient_descent(W1,W2,result_backward[0],result_backward[1],alpha)\n",
    "    W1 = result_gradient[0]\n",
    "    W2 = result_gradient[1]\n",
    "\n",
    "\n",
    "\n"
   ]
  },
  {
   "cell_type": "markdown",
   "metadata": {},
   "source": [
    "#\n",
    "loss_set1=[]\n",
    "for i in range(10000):\n",
    "    z2 = np.dot(a1,W1) \n",
    "    a2 = sigmoid(z2)\n",
    "    z3 = np.dot(a2,W2)\n",
    "    a3 = sigmoid(z3)#最后的结果 但是没有做loss\n",
    "    \n",
    "    \n",
    "    delta3 = (a3-y)*sigmoidDerivationx(a3)\n",
    "    dW2 = a2.T.dot(delta3)\n",
    "    delta2 = (delta3*W2.T)*sigmoidDerivationx(a2)\n",
    "    dW1 = a1.T.dot(delta2)\n",
    "    \n",
    "    \n",
    "    W1 = W1 - alpha*dW1\n",
    "    W2 = W2 - alpha*dW2\n",
    "    \n",
    "    z2 = np.dot(a1,W1)\n",
    "    a2 = sigmoid(z2)\n",
    "    z3 = np.dot(a2,W2)\n",
    "    a3 = sigmoid(z3)\n",
    "    loss = a3 - y\n",
    "    \n",
    "    loss_set1.append(test_error(loss))\n",
    "    \n",
    "    \n",
    "    \n",
    "\n"
   ]
  },
  {
   "cell_type": "code",
   "execution_count": 157,
   "metadata": {},
   "outputs": [
    {
     "data": {
      "image/png": "[encoded data removed]",
      "text/plain": [
       "<Figure size 432x288 with 1 Axes>"
      ]
     },
     "metadata": {
      "needs_background": "light"
     },
     "output_type": "display_data"
    }
   ],
   "source": [
    "plt.figure()\n",
    "plt.plot(np.arange(1,10001),loss_set)\n",
    "plt.show()\n",
    "#alpha可以更小"
   ]
  },
  {
   "cell_type": "code",
   "execution_count": 158,
   "metadata": {},
   "outputs": [
    {
     "data": {
      "text/plain": [
       "8.724770301894573"
      ]
     },
     "execution_count": 158,
     "metadata": {},
     "output_type": "execute_result"
    }
   ],
   "source": [
    "loss_set[-1]"
   ]
  },
  {
   "cell_type": "code",
   "execution_count": 160,
   "metadata": {},
   "outputs": [
    {
     "data": {
      "text/plain": [
       "array([[ 0.73704807],\n",
       "       [ 1.26593371],\n",
       "       [-2.2746167 ],\n",
       "       [ 1.11868777],\n",
       "       [-0.66899316],\n",
       "       [ 0.43559584],\n",
       "       [ 1.05454494],\n",
       "       [-0.32888345],\n",
       "       [ 0.17833581],\n",
       "       [ 0.95878048]])"
      ]
     },
     "execution_count": 160,
     "metadata": {},
     "output_type": "execute_result"
    }
   ],
   "source": [
    "W2"
   ]
  },
  {
   "cell_type": "markdown",
   "metadata": {},
   "source": [
    "plt.figure()\n",
    "plt.plot(np.arange(1,10001),loss_set1)\n",
    "plt.show()"
   ]
  },
  {
   "cell_type": "code",
   "execution_count": 159,
   "metadata": {},
   "outputs": [
    {
     "data": {
      "image/png": "[encoded data removed]",
      "text/plain": [
       "<Figure size 432x288 with 1 Axes>"
      ]
     },
     "metadata": {
      "needs_background": "light"
     },
     "output_type": "display_data"
    }
   ],
   "source": [
    "plt.figure()\n",
    "plt.scatter(result_forward[1],y)\n",
    "plt.show()"
   ]
  },
  {
   "cell_type": "code",
   "execution_count": null,
   "metadata": {},
   "outputs": [],
   "source": [
    "#Optimising width of hidden layer \n",
    "#parameter\n",
    "## Initialize Neural Network\n",
    "## parameter 3 layer，input layer size 11，hidden layer 10，out layer 1\n",
    "#active function segmoid\n",
    "#alpha 0.00001\n",
    "input_layer_size= 11\n",
    "hidden_layer_size= 10\n",
    "output_layer_size= 1\n",
    "\n",
    "# initialize the weights parameters\n",
    "np.random.seed(0)\n",
    "W1= np.random.randn(input_layer_size, hidden_layer_size)\n",
    "W2= np.random.randn(hidden_layer_size, output_layer_size)\n",
    "# define learning rate of gradient descent\n",
    "alpha= 0.0001\n",
    "\n",
    "a1 = x\n"
   ]
  },
  {
   "cell_type": "code",
   "execution_count": 161,
   "metadata": {},
   "outputs": [],
   "source": [
    "#先单独optimize hidden layer\n",
    "#2-20\n",
    "loss_opt_hidden = []\n",
    "loss_opt_hidden_width = []\n",
    "\n",
    "for i in range(2,20):\n",
    "    #set parameter\n",
    "    input_layer_size= 11\n",
    "    hidden_layer_size= i\n",
    "    output_layer_size= 1\n",
    "    np.random.seed(0)\n",
    "    W1= np.random.randn(input_layer_size, hidden_layer_size)\n",
    "    W2= np.random.randn(hidden_layer_size, output_layer_size)\n",
    "    #set alpha\n",
    "    alpha= 0.0001\n",
    "    #set a1 = feature dataset\n",
    "    a1 = x    \n",
    "    for i in range(10000):\n",
    "        result_forward = forward(a1,W1,W2)\n",
    "        #loss = result_forward[1]-y\n",
    "        result_backward = backward(result_forward,a1)\n",
    "        result_gradient = gradient_descent(W1,W2,result_backward[0],result_backward[1],alpha)\n",
    "        W1 = result_gradient[0]\n",
    "        W2 = result_gradient[1]\n",
    "        result_forward_new = forward(a1,W1,W2)\n",
    "        loss = result_forward_new[1]-y\n",
    "        loss_opt_hidden.append(test_error(loss))\n",
    "    #collect loss result of different hidden layers\n",
    "    loss_opt_hidden_width.append(test_error(loss))\n",
    "    \n"
   ]
  },
  {
   "cell_type": "code",
   "execution_count": 162,
   "metadata": {},
   "outputs": [
    {
     "data": {
      "text/plain": [
       "[17.369504607973028,\n",
       " 14.429753548333306,\n",
       " 12.10813556559531,\n",
       " 13.132096940788983,\n",
       " 8.558097193532056,\n",
       " 10.930116031758962,\n",
       " 12.616876019644252,\n",
       " 8.656806600523883,\n",
       " 8.724770301894573,\n",
       " 9.28149040377264,\n",
       " 10.250277115087579,\n",
       " 10.341821192681207,\n",
       " 7.697531687461851,\n",
       " 8.34395281254696,\n",
       " 8.069916513977095,\n",
       " 8.022512431675745,\n",
       " 9.79480871007922,\n",
       " 8.580191411049114]"
      ]
     },
     "execution_count": 162,
     "metadata": {},
     "output_type": "execute_result"
    }
   ],
   "source": [
    "\n",
    "loss_opt_hidden_width"
   ]
  },
  {
   "cell_type": "code",
   "execution_count": 167,
   "metadata": {},
   "outputs": [],
   "source": [
    "#optmize hidden and \n",
    "#alpha[0.001,0.0001,0.00001]\n",
    "#input_layer_size= 11\n",
    "#hidden_layer_size= 10\n",
    "#output_layer_size= 1\n",
    "\n",
    "# initialize the weights parameters\n",
    "#np.random.seed(0)\n",
    "#W1= np.random.randn(input_layer_size, hidden_layer_size)\n",
    "#W2= np.random.randn(hidden_layer_size, output_layer_size)\n",
    "# define learning rate of gradient descent\n",
    "alpha_list = [0.001,0.0001,0.00001]\n",
    "\n",
    "a1 = x\n",
    "\n"
   ]
  },
  {
   "cell_type": "code",
   "execution_count": 171,
   "metadata": {},
   "outputs": [],
   "source": [
    "loss_opt_hidden_alpha = []\n",
    "loss_opt_hidden_alpha_width =[]\n",
    "#loss_opt_alpha_width = []\n",
    "\n",
    "for alpha in alpha_list:\n",
    "    for i in range(8,15):\n",
    "    #set parameter\n",
    "        input_layer_size= 11\n",
    "        hidden_layer_size= i\n",
    "        output_layer_size= 1 \n",
    "        \n",
    "        np.random.seed(0)\n",
    "        W1= np.random.randn(input_layer_size, hidden_layer_size)\n",
    "        W2= np.rand om.randn(hidden_layer_size, output_layer_size)\n",
    "        \n",
    "        a1 = x \n",
    "        #set alpha\n",
    "        #alpha= 0.0001\n",
    "        #set a1 = feature dataset\n",
    "        \n",
    "        for i in range(10000):\n",
    "            result_forward = forward(a1,W1,W2)\n",
    "            #loss = result_forward[1]-y\n",
    "            result_backward = backward(result_forward,a1)\n",
    "            result_gradient = gradient_descent(W1,W2,result_backward[0],result_backward[1],alpha)\n",
    "            W1 = result_gradient[0]\n",
    "            W2 = result_gradient[1]\n",
    "            result_forward_new = forward(a1,W1,W2)\n",
    "            loss = result_forward_new[1]-y\n",
    "            loss_opt_hidden_alpha.append(test_error(loss))\n",
    "    #collect loss result of different hidden layers\n",
    "        #loss_opt_hidden_alpha_width.append(test_error(loss))\n",
    "        #loss_opt_alpha_width.append(test_error(loss))\n",
    "    #loss_opt_alpha_width.append(loss_opt_hidden_alpha_width)#min\n",
    "    "
   ]
  },
  {
   "cell_type": "code",
   "execution_count": 188,
   "metadata": {},
   "outputs": [
    {
     "data": {
      "text/plain": [
       "5.852495414105665"
      ]
     },
     "execution_count": 188,
     "metadata": {},
     "output_type": "execute_result"
    }
   ],
   "source": [
    "#loss_opt_hidden_alpha\n",
    "loss_opt_hidden_alpha_width[np.argmin(loss_opt_hidden_alpha_width)]\n",
    "#3x7个\n",
    "#loss_opt_alpha_width\n",
    "#loss_opt_alpha_width"
   ]
  },
  {
   "cell_type": "code",
   "execution_count": 189,
   "metadata": {},
   "outputs": [
    {
     "data": {
      "text/plain": [
       "[5.881535849418781,\n",
       " 5.904113231945676,\n",
       " 5.897594225513176,\n",
       " 5.852495414105665,\n",
       " 5.893300793903121,\n",
       " 5.930785352608968,\n",
       " 5.860268303505123,\n",
       " 12.616876019644252,\n",
       " 8.656806600523883,\n",
       " 8.724770301894573,\n",
       " 9.28149040377264,\n",
       " 10.250277115087579,\n",
       " 10.341821192681207,\n",
       " 7.697531687461851,\n",
       " 18.86251301238394,\n",
       " 15.432017618704762,\n",
       " 20.230777368763505,\n",
       " 19.602193860125993,\n",
       " 15.323631261248966,\n",
       " 20.737340312461328,\n",
       " 21.93805798559456]"
      ]
     },
     "execution_count": 189,
     "metadata": {},
     "output_type": "execute_result"
    }
   ],
   "source": [
    "loss_opt_hidden_alpha_width"
   ]
  },
  {
   "cell_type": "code",
   "execution_count": 190,
   "metadata": {},
   "outputs": [],
   "source": [
    "##opt alpha + hidden + iteration\n",
    "#optmize hidden and \n",
    "#alpha[0.001,0.0001,0.00001]\n",
    "#input_layer_size= 11\n",
    "#hidden_layer_size= 10\n",
    "#output_layer_size= 1\n",
    "\n",
    "# initialize the weights parameters\n",
    "#np.random.seed(0)\n",
    "#W1= np.random.randn(input_layer_size, hidden_layer_size)\n",
    "#W2= np.random.randn(hidden_layer_size, output_layer_size)\n",
    "# define learning rate of gradient descent\n",
    "alpha_list = [0.001,0.0001,0.00001]\n",
    "iteration_list = [1000,5000,10000,20000,50000]\n",
    "a1 = x"
   ]
  },
  {
   "cell_type": "code",
   "execution_count": 192,
   "metadata": {},
   "outputs": [],
   "source": [
    "loss_opt_iterate = []\n",
    "loss_opt_iterate_width =[]\n",
    "#loss_opt_iterate_width = []\n",
    "\n",
    "for iterate in iteration_list:\n",
    "    for alpha in alpha_list:\n",
    "        for i in range(8,15):\n",
    "    #set parameter\n",
    "            input_layer_size= 11\n",
    "            hidden_layer_size= i\n",
    "            output_layer_size= 1 \n",
    "        \n",
    "            np.random.seed(0)\n",
    "            W1= np.random.randn(input_layer_size, hidden_layer_size)\n",
    "            W2= np.random.randn(hidden_layer_size, output_layer_size)\n",
    "        \n",
    "            a1 = x \n",
    "        #set alpha\n",
    "        #alpha= 0.0001\n",
    "        #set a1 = feature dataset        \n",
    "            for i in range(iterate):\n",
    "                result_forward = forward(a1,W1,W2)\n",
    "            #loss = result_forward[1]-y\n",
    "                result_backward = backward(result_forward,a1)\n",
    "                result_gradient = gradient_descent(W1,W2,result_backward[0],result_backward[1],alpha)\n",
    "                W1 = result_gradient[0]\n",
    "                W2 = result_gradient[1]\n",
    "                result_forward_new = forward(a1,W1,W2)\n",
    "                loss = result_forward_new[1]-y\n",
    "                loss_opt_iterate.append(test_error(loss))\n",
    "    #collect loss result of different hidden layers\n",
    "            loss_opt_iterate_width.append(test_error(loss))#7x3x5 个\n",
    "        #loss_opt_alpha_width.append(test_error(loss))\n",
    "    #loss_opt_alpha_width.append(loss_opt_hidden_alpha_width)#min"
   ]
  },
  {
   "cell_type": "code",
   "execution_count": 199,
   "metadata": {},
   "outputs": [
    {
     "data": {
      "text/plain": [
       "array([[[12.61792319,  8.6578018 ,  8.72741097,  9.28334899,\n",
       "         10.25274534, 10.3438457 ,  7.69045101],\n",
       "        [18.86180108, 15.43068427, 20.23138648, 19.60109555,\n",
       "         15.32414919, 20.73578471, 21.93971908],\n",
       "        [23.71750602, 27.20014225, 32.61510362, 28.52342006,\n",
       "         16.64672021, 34.63583812, 34.89587684]],\n",
       "\n",
       "       [[ 6.12681203,  6.09656728,  5.95376287,  5.9784545 ,\n",
       "          6.12355779,  6.03021698,  6.02413488],\n",
       "        [14.38362202, 10.30244413, 11.51331437, 11.56201728,\n",
       "         12.09295935, 13.10445806, 10.12157887],\n",
       "        [20.95621044, 19.4810575 , 24.83797748, 23.35470854,\n",
       "         16.00356202, 25.23771422, 27.18961106]],\n",
       "\n",
       "       [[ 5.88153585,  5.90411323,  5.89759423,  5.85249541,\n",
       "          5.89330079,  5.93078535,  5.8602683 ],\n",
       "        [12.61687602,  8.6568066 ,  8.7247703 ,  9.2814904 ,\n",
       "         10.25027712, 10.34182119,  7.69753169],\n",
       "        [18.86251301, 15.43201762, 20.23077737, 19.60219386,\n",
       "         15.32363126, 20.73734031, 21.93805799]],\n",
       "\n",
       "       [[ 5.76193475,  5.76518566,  5.85051813,  5.77209355,\n",
       "          5.78392781,  5.85331482,  5.7404897 ],\n",
       "        [ 9.53737518,  7.03868992,  6.65176067,  7.07567847,\n",
       "          8.00443912,  7.3137772 ,  6.69069314],\n",
       "        [16.69308006, 12.55728832, 16.1061846 , 15.59652399,\n",
       "         14.21630206, 16.98052729, 16.72450025]],\n",
       "\n",
       "       [[ 5.61969405,  5.60651167,  5.69217852,  5.6371402 ,\n",
       "          5.6352304 ,  5.71008131,  5.6132252 ],\n",
       "        [ 6.12663945,  6.09655577,  5.9535116 ,  5.97842796,\n",
       "          6.12397773,  6.03002953,  6.02294177],\n",
       "        [14.38368911, 10.30238259, 11.51258737, 11.56195108,\n",
       "         12.09273087, 13.10440902, 10.12289678]]])"
      ]
     },
     "execution_count": 199,
     "metadata": {},
     "output_type": "execute_result"
    }
   ],
   "source": [
    "loss_opt_iterate \n",
    "np.argmin(loss_opt_iterate_width)\n",
    "\n",
    "np.reshape(loss_opt_iterate_width, (5,3,7))\n",
    "\n",
    "#best parameter\n",
    "#hidden layer = 9\n",
    "#alpha = 0.001\n",
    "#iter = 50000"
   ]
  },
  {
   "cell_type": "code",
   "execution_count": null,
   "metadata": {},
   "outputs": [],
   "source": []
  }
 ],
 "metadata": {
  "kernelspec": {
   "display_name": "Python 3",
   "language": "python",
   "name": "python3"
  },
  "language_info": {
   "codemirror_mode": {
    "name": "ipython",
    "version": 3
   },
   "file_extension": ".py",
   "mimetype": "text/x-python",
   "name": "python",
   "nbconvert_exporter": "python",
   "pygments_lexer": "ipython3",
   "version": "3.8.3"
  }
 },
 "nbformat": 4,
 "nbformat_minor": 2
}
