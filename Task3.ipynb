{
 "cells": [
  {
   "cell_type": "code",
   "execution_count": 71,
   "metadata": {},
   "outputs": [],
   "source": [
    "import numpy as np\n",
    "import pandas as pd\n",
    "\n",
    "import matplotlib.pyplot as plt\n",
    "\n",
    "from sklearn.model_selection import train_test_split\n",
    "\n",
    "#import warnings\n",
    "#warnings.filterwarnings(\"ignore\")\n",
    "\n"
   ]
  },
  {
   "cell_type": "code",
   "execution_count": 2,
   "metadata": {},
   "outputs": [],
   "source": [
    "raw_data = pd.read_csv('wine_2020.csv')"
   ]
  },
  {
   "cell_type": "code",
   "execution_count": 3,
   "metadata": {},
   "outputs": [
    {
     "data": {
      "text/html": [
       "<div>\n",
       "<style scoped>\n",
       "    .dataframe tbody tr th:only-of-type {\n",
       "        vertical-align: middle;\n",
       "    }\n",
       "\n",
       "    .dataframe tbody tr th {\n",
       "        vertical-align: top;\n",
       "    }\n",
       "\n",
       "    .dataframe thead th {\n",
       "        text-align: right;\n",
       "    }\n",
       "</style>\n",
       "<table border=\"1\" class=\"dataframe\">\n",
       "  <thead>\n",
       "    <tr style=\"text-align: right;\">\n",
       "      <th></th>\n",
       "      <th>fixed acidity</th>\n",
       "      <th>volatile acidity</th>\n",
       "      <th>critric acid</th>\n",
       "      <th>residual sugar</th>\n",
       "      <th>chlorides</th>\n",
       "      <th>free sulfur dioxide</th>\n",
       "      <th>total sulfur dioxide</th>\n",
       "      <th>density</th>\n",
       "      <th>pH</th>\n",
       "      <th>sulphates</th>\n",
       "      <th>alcohol</th>\n",
       "      <th>quality</th>\n",
       "    </tr>\n",
       "  </thead>\n",
       "  <tbody>\n",
       "    <tr>\n",
       "      <th>0</th>\n",
       "      <td>8.567376</td>\n",
       "      <td>0.15</td>\n",
       "      <td>0.820326</td>\n",
       "      <td>1.6</td>\n",
       "      <td>0.174755</td>\n",
       "      <td>243.304154</td>\n",
       "      <td>100.354988</td>\n",
       "      <td>0.9948</td>\n",
       "      <td>3.456648</td>\n",
       "      <td>0.604694</td>\n",
       "      <td>13.297994</td>\n",
       "      <td>7</td>\n",
       "    </tr>\n",
       "    <tr>\n",
       "      <th>1</th>\n",
       "      <td>3.006749</td>\n",
       "      <td>0.28</td>\n",
       "      <td>1.602516</td>\n",
       "      <td>1.8</td>\n",
       "      <td>0.341262</td>\n",
       "      <td>218.125676</td>\n",
       "      <td>310.740380</td>\n",
       "      <td>0.9929</td>\n",
       "      <td>2.779328</td>\n",
       "      <td>1.049840</td>\n",
       "      <td>9.134693</td>\n",
       "      <td>5</td>\n",
       "    </tr>\n",
       "    <tr>\n",
       "      <th>2</th>\n",
       "      <td>7.354262</td>\n",
       "      <td>0.24</td>\n",
       "      <td>1.138284</td>\n",
       "      <td>7.7</td>\n",
       "      <td>0.303813</td>\n",
       "      <td>153.170821</td>\n",
       "      <td>166.964841</td>\n",
       "      <td>0.9938</td>\n",
       "      <td>2.945272</td>\n",
       "      <td>0.873361</td>\n",
       "      <td>10.592140</td>\n",
       "      <td>6</td>\n",
       "    </tr>\n",
       "    <tr>\n",
       "      <th>3</th>\n",
       "      <td>6.942369</td>\n",
       "      <td>0.22</td>\n",
       "      <td>1.090815</td>\n",
       "      <td>10.4</td>\n",
       "      <td>0.084264</td>\n",
       "      <td>116.195476</td>\n",
       "      <td>360.264333</td>\n",
       "      <td>0.9987</td>\n",
       "      <td>3.657075</td>\n",
       "      <td>0.565282</td>\n",
       "      <td>11.219277</td>\n",
       "      <td>6</td>\n",
       "    </tr>\n",
       "    <tr>\n",
       "      <th>4</th>\n",
       "      <td>6.235026</td>\n",
       "      <td>0.28</td>\n",
       "      <td>0.101780</td>\n",
       "      <td>8.7</td>\n",
       "      <td>0.096892</td>\n",
       "      <td>123.352272</td>\n",
       "      <td>209.157680</td>\n",
       "      <td>0.9961</td>\n",
       "      <td>2.971558</td>\n",
       "      <td>0.896674</td>\n",
       "      <td>10.438754</td>\n",
       "      <td>5</td>\n",
       "    </tr>\n",
       "  </tbody>\n",
       "</table>\n",
       "</div>"
      ],
      "text/plain": [
       "   fixed acidity  volatile acidity  critric acid  residual sugar  chlorides  \\\n",
       "0       8.567376              0.15      0.820326             1.6   0.174755   \n",
       "1       3.006749              0.28      1.602516             1.8   0.341262   \n",
       "2       7.354262              0.24      1.138284             7.7   0.303813   \n",
       "3       6.942369              0.22      1.090815            10.4   0.084264   \n",
       "4       6.235026              0.28      0.101780             8.7   0.096892   \n",
       "\n",
       "   free sulfur dioxide  total sulfur dioxide  density        pH  sulphates  \\\n",
       "0           243.304154            100.354988   0.9948  3.456648   0.604694   \n",
       "1           218.125676            310.740380   0.9929  2.779328   1.049840   \n",
       "2           153.170821            166.964841   0.9938  2.945272   0.873361   \n",
       "3           116.195476            360.264333   0.9987  3.657075   0.565282   \n",
       "4           123.352272            209.157680   0.9961  2.971558   0.896674   \n",
       "\n",
       "     alcohol  quality  \n",
       "0  13.297994        7  \n",
       "1   9.134693        5  \n",
       "2  10.592140        6  \n",
       "3  11.219277        6  \n",
       "4  10.438754        5  "
      ]
     },
     "execution_count": 3,
     "metadata": {},
     "output_type": "execute_result"
    }
   ],
   "source": [
    "raw_data.head()"
   ]
  },
  {
   "cell_type": "code",
   "execution_count": 4,
   "metadata": {},
   "outputs": [
    {
     "name": "stdout",
     "output_type": "stream",
     "text": [
      "<class 'pandas.core.frame.DataFrame'>\n",
      "RangeIndex: 4000 entries, 0 to 3999\n",
      "Data columns (total 12 columns):\n",
      " #   Column                Non-Null Count  Dtype  \n",
      "---  ------                --------------  -----  \n",
      " 0   fixed acidity         4000 non-null   float64\n",
      " 1   volatile acidity      4000 non-null   float64\n",
      " 2   critric acid          4000 non-null   float64\n",
      " 3   residual sugar        4000 non-null   float64\n",
      " 4   chlorides             4000 non-null   float64\n",
      " 5   free sulfur dioxide   4000 non-null   float64\n",
      " 6   total sulfur dioxide  4000 non-null   float64\n",
      " 7   density               4000 non-null   float64\n",
      " 8   pH                    4000 non-null   float64\n",
      " 9   sulphates             4000 non-null   float64\n",
      " 10  alcohol               4000 non-null   float64\n",
      " 11  quality               4000 non-null   int64  \n",
      "dtypes: float64(11), int64(1)\n",
      "memory usage: 375.1 KB\n"
     ]
    }
   ],
   "source": [
    "raw_data.info()\n",
    "#non missing values"
   ]
  },
  {
   "cell_type": "code",
   "execution_count": 5,
   "metadata": {},
   "outputs": [
    {
     "name": "stdout",
     "output_type": "stream",
     "text": [
      "(4000, 11)\n"
     ]
    }
   ],
   "source": [
    "#SCALE\n",
    "x = raw_data.iloc[:,:-1]\n",
    "x = x.div(x.max()).values\n",
    "\n",
    "y = raw_data.iloc[:,-1]\n",
    "y = y.div(y.max()).values.reshape(-1,1)\n",
    "print(x.shape)"
   ]
  },
  {
   "cell_type": "code",
   "execution_count": 6,
   "metadata": {},
   "outputs": [],
   "source": [
    "###Scale by maximum"
   ]
  },
  {
   "cell_type": "markdown",
   "metadata": {},
   "source": [
    "#train _test split\n",
    "X_train, X_test, y_train, y_test = train_test_split(x, y, test_size=0.3)\n",
    "X_train.info()\n",
    "#2800"
   ]
  },
  {
   "cell_type": "markdown",
   "metadata": {},
   "source": [
    "y_train"
   ]
  },
  {
   "cell_type": "code",
   "execution_count": 7,
   "metadata": {},
   "outputs": [],
   "source": [
    "## Initialize Neural Network\n",
    "## parameter 3 layer，input layer size 11，hidden layer 10，out layer 1\n",
    "#active function segmoid\n",
    "#alpha 0.00001\n",
    "input_layer_size= 11\n",
    "hidden_layer_size= 10\n",
    "output_layer_size= 1\n",
    "\n",
    "# initialize the weights parameters\n",
    "np.random.seed(0)\n",
    "W1= np.random.randn(input_layer_size, hidden_layer_size)\n",
    "W2= np.random.randn(hidden_layer_size, output_layer_size)\n",
    "# define learning rate of gradient descent\n",
    "alpha= 0.0001\n",
    "\n",
    "a1 = x"
   ]
  },
  {
   "cell_type": "markdown",
   "metadata": {},
   "source": [
    "#scale\n",
    "W1"
   ]
  },
  {
   "cell_type": "code",
   "execution_count": 9,
   "metadata": {},
   "outputs": [],
   "source": [
    "##3 steps \n",
    "#1. forward propagation to get loss function\n",
    "#2. back propagation to updated weight\n",
    "#3. gradient descent to get best model "
   ]
  },
  {
   "cell_type": "code",
   "execution_count": 111,
   "metadata": {},
   "outputs": [],
   "source": [
    "## define active function\n",
    "def sigmoid(x):\n",
    "    # our activation function: f(x) = 1 / (1 * e^(-x))\n",
    "    return (1 / (1+ np.exp(-x)))\n",
    "\n",
    "def sigmoidDerivationx(y):\n",
    "    return (y * (1 - y))\n",
    "\n",
    "def test_error(loss):\n",
    "    #for i in range(len(pred)):\n",
    "        #result = result + (pred[i] - test[i])**2/2\n",
    "    return np.sum(np.power(loss,2))/2"
   ]
  },
  {
   "cell_type": "markdown",
   "metadata": {},
   "source": [
    "\n",
    "\n",
    "delta3 = (a3-np.array(y_train).reshape(-1,1))*sigmoidDerivationx(z3)\n",
    "dW2 = a2.T.dot(delta3)\n",
    "delta2 = (delta3.dot(W2.T))*sigmoidDerivationx(z2)\n",
    "dw1 = a1.T.dot(delta2)\n",
    "# 10x10\n"
   ]
  },
  {
   "cell_type": "code",
   "execution_count": 131,
   "metadata": {},
   "outputs": [],
   "source": [
    "#forward propagation\n",
    "#loss function \n",
    "\n",
    "def forward(inputs,weight1,weight2):\n",
    "    z2 = np.dot(inputs,weight1) \n",
    "    a2 = sigmoid(z2)\n",
    "    z3 = np.dot(a2,weight2)\n",
    "    a3 = sigmoid(z3)#最后的结果 但是没有做loss\n",
    "    return a2,a3"
   ]
  },
  {
   "cell_type": "code",
   "execution_count": 132,
   "metadata": {},
   "outputs": [],
   "source": [
    "# back propagation\n",
    "def backward(forward,inputs):\n",
    "    delta3 = (forward[1]-y)*sigmoidDerivationx(forward[1])\n",
    "    dW2 = np.dot(forward[0].T,delta3)#forward[2].T.dot(delta3)\n",
    "    delta2 = (delta3*W2.T)*sigmoidDerivationx(forward[0])\n",
    "    dW1 = np.dot(a1.T,delta2)\n",
    "    return dW1,dW2\n",
    "         "
   ]
  },
  {
   "cell_type": "code",
   "execution_count": 133,
   "metadata": {},
   "outputs": [],
   "source": [
    "def gradient_descent(weight1,weight2,dW1,dW2,alpha):\n",
    "    newW1 = weight1 - alpha*dW1\n",
    "    newW2 = weight2 - alpha*dW2\n",
    "    return newW1,newW2\n",
    "    "
   ]
  },
  {
   "cell_type": "code",
   "execution_count": 155,
   "metadata": {},
   "outputs": [],
   "source": [
    "#to store loss for plot\n",
    "loss_set=[]\n",
    "for i in range(10000):\n",
    "    result_forward = forward(a1,W1,W2)\n",
    "    #loss = result_forward[1]-y\n",
    "    result_backward = backward(result_forward,a1)\n",
    "    result_gradient = gradient_descent(W1,W2,result_backward[0],result_backward[1],alpha)\n",
    "    W1 = result_gradient[0]\n",
    "    W2 = result_gradient[1]\n",
    "    result_forward_new = forward(a1,W1,W2)\n",
    "    loss = result_forward_new[1]-y\n",
    "    loss_set.append(test_error(loss))  \n",
    "    \n",
    "\n"
   ]
  },
  {
   "cell_type": "markdown",
   "metadata": {},
   "source": [
    "loss_set"
   ]
  },
  {
   "cell_type": "markdown",
   "metadata": {},
   "source": [
    "#one iteration\n",
    "#再用新的dw1 dw2 去run fo\n",
    "#先试一次\n",
    "result_forward = forward(a1,W1,W2)\n",
    "result_backward = backward(result_forward,a1)\n",
    "result_gradient = gradient_descent(W1,W2,result_backward[0],result_backward[1],alpha)\n",
    "result_gradient"
   ]
  },
  {
   "cell_type": "markdown",
   "metadata": {},
   "source": [
    "##\n",
    "%time\n",
    "#iteration = 10000\n",
    "\n",
    "for i in range(10000):\n",
    "    result_forward = forward(a1,W1,W2)\n",
    "    result_backward = backward(result_forward,a1)\n",
    "    result_gradient = gradient_descent(W1,W2,result_backward[0],result_backward[1],alpha)\n",
    "    W1 = result_gradient[0]\n",
    "    W2 = result_gradient[1]\n",
    "\n",
    "\n",
    "\n"
   ]
  },
  {
   "cell_type": "markdown",
   "metadata": {},
   "source": [
    "#\n",
    "loss_set1=[]\n",
    "for i in range(10000):\n",
    "    z2 = np.dot(a1,W1) \n",
    "    a2 = sigmoid(z2)\n",
    "    z3 = np.dot(a2,W2)\n",
    "    a3 = sigmoid(z3)#最后的结果 但是没有做loss\n",
    "    \n",
    "    \n",
    "    delta3 = (a3-y)*sigmoidDerivationx(a3)\n",
    "    dW2 = a2.T.dot(delta3)\n",
    "    delta2 = (delta3*W2.T)*sigmoidDerivationx(a2)\n",
    "    dW1 = a1.T.dot(delta2)\n",
    "    \n",
    "    \n",
    "    W1 = W1 - alpha*dW1\n",
    "    W2 = W2 - alpha*dW2\n",
    "    \n",
    "    z2 = np.dot(a1,W1)\n",
    "    a2 = sigmoid(z2)\n",
    "    z3 = np.dot(a2,W2)\n",
    "    a3 = sigmoid(z3)\n",
    "    loss = a3 - y\n",
    "    \n",
    "    loss_set1.append(test_error(loss))\n",
    "    \n",
    "    \n",
    "    \n",
    "\n"
   ]
  },
  {
   "cell_type": "code",
   "execution_count": 157,
   "metadata": {},
   "outputs": [
    {
     "data": {
      "image/png": "[encoded data removed]",
      "text/plain": [
       "<Figure size 432x288 with 1 Axes>"
      ]
     },
     "metadata": {
      "needs_background": "light"
     },
     "output_type": "display_data"
    }
   ],
   "source": [
    "plt.figure()\n",
    "plt.plot(np.arange(1,10001),loss_set)\n",
    "plt.show()\n",
    "#alpha可以更小"
   ]
  },
  {
   "cell_type": "code",
   "execution_count": 158,
   "metadata": {},
   "outputs": [
    {
     "data": {
      "text/plain": [
       "8.724770301894573"
      ]
     },
     "execution_count": 158,
     "metadata": {},
     "output_type": "execute_result"
    }
   ],
   "source": [
    "loss_set[-1]"
   ]
  },
  {
   "cell_type": "code",
   "execution_count": 160,
   "metadata": {},
   "outputs": [
    {
     "data": {
      "text/plain": [
       "array([[ 0.73704807],\n",
       "       [ 1.26593371],\n",
       "       [-2.2746167 ],\n",
       "       [ 1.11868777],\n",
       "       [-0.66899316],\n",
       "       [ 0.43559584],\n",
       "       [ 1.05454494],\n",
       "       [-0.32888345],\n",
       "       [ 0.17833581],\n",
       "       [ 0.95878048]])"
      ]
     },
     "execution_count": 160,
     "metadata": {},
     "output_type": "execute_result"
    }
   ],
   "source": [
    "W2"
   ]
  },
  {
   "cell_type": "markdown",
   "metadata": {},
   "source": [
    "plt.figure()\n",
    "plt.plot(np.arange(1,10001),loss_set1)\n",
    "plt.show()"
   ]
  },
  {
   "cell_type": "code",
   "execution_count": 159,
   "metadata": {},
   "outputs": [
    {
     "data": {
      "image/png": "[encoded data removed]",
      "text/plain": [
       "<Figure size 432x288 with 1 Axes>"
      ]
     },
     "metadata": {
      "needs_background": "light"
     },
     "output_type": "display_data"
    }
   ],
   "source": [
    "plt.figure()\n",
    "plt.scatter(result_forward[1],y)\n",
    "plt.show()"
   ]
  },
  {
   "cell_type": "code",
   "execution_count": null,
   "metadata": {},
   "outputs": [],
   "source": [
    "#Optimising width of hidden layer \n",
    "#parameter\n",
    "## Initialize Neural Network\n",
    "## parameter 3 layer，input layer size 11，hidden layer 10，out layer 1\n",
    "#active function segmoid\n",
    "#alpha 0.00001\n",
    "input_layer_size= 11\n",
    "hidden_layer_size= 10\n",
    "output_layer_size= 1\n",
    "\n",
    "# initialize the weights parameters\n",
    "np.random.seed(0)\n",
    "W1= np.random.randn(input_layer_size, hidden_layer_size)\n",
    "W2= np.random.randn(hidden_layer_size, output_layer_size)\n",
    "# define learning rate of gradient descent\n",
    "alpha= 0.0001\n",
    "\n",
    "a1 = x\n"
   ]
  },
  {
   "cell_type": "code",
   "execution_count": 161,
   "metadata": {},
   "outputs": [],
   "source": [
    "#先单独optimize hidden layer\n",
    "#2-20\n",
    "loss_opt_hidden = []\n",
    "loss_opt_hidden_width = []\n",
    "\n",
    "for i in range(2,20):\n",
    "    #set parameter\n",
    "    input_layer_size= 11\n",
    "    hidden_layer_size= i\n",
    "    output_layer_size= 1\n",
    "    np.random.seed(0)\n",
    "    W1= np.random.randn(input_layer_size, hidden_layer_size)\n",
    "    W2= np.random.randn(hidden_layer_size, output_layer_size)\n",
    "    #set alpha\n",
    "    alpha= 0.0001\n",
    "    #set a1 = feature dataset\n",
    "    a1 = x    \n",
    "    for i in range(10000):\n",
    "        result_forward = forward(a1,W1,W2)\n",
    "        #loss = result_forward[1]-y\n",
    "        result_backward = backward(result_forward,a1)\n",
    "        result_gradient = gradient_descent(W1,W2,result_backward[0],result_backward[1],alpha)\n",
    "        W1 = result_gradient[0]\n",
    "        W2 = result_gradient[1]\n",
    "        result_forward_new = forward(a1,W1,W2)\n",
    "        loss = result_forward_new[1]-y\n",
    "        loss_opt_hidden.append(test_error(loss))\n",
    "    #collect loss result of different hidden layers\n",
    "    loss_opt_hidden_width.append(test_error(loss))\n",
    "    \n"
   ]
  },
  {
   "cell_type": "code",
   "execution_count": 162,
   "metadata": {},
   "outputs": [
    {
     "data": {
      "text/plain": [
       "[17.369504607973028,\n",
       " 14.429753548333306,\n",
       " 12.10813556559531,\n",
       " 13.132096940788983,\n",
       " 8.558097193532056,\n",
       " 10.930116031758962,\n",
       " 12.616876019644252,\n",
       " 8.656806600523883,\n",
       " 8.724770301894573,\n",
       " 9.28149040377264,\n",
       " 10.250277115087579,\n",
       " 10.341821192681207,\n",
       " 7.697531687461851,\n",
       " 8.34395281254696,\n",
       " 8.069916513977095,\n",
       " 8.022512431675745,\n",
       " 9.79480871007922,\n",
       " 8.580191411049114]"
      ]
     },
     "execution_count": 162,
     "metadata": {},
     "output_type": "execute_result"
    }
   ],
   "source": [
    "\n",
    "loss_opt_hidden_width"
   ]
  },
  {
   "cell_type": "code",
   "execution_count": null,
   "metadata": {},
   "outputs": [],
   "source": [
    "#optmize hidden and alpha\n"
   ]
  }
 ],
 "metadata": {
  "kernelspec": {
   "display_name": "Python 3",
   "language": "python",
   "name": "python3"
  },
  "language_info": {
   "codemirror_mode": {
    "name": "ipython",
    "version": 3
   },
   "file_extension": ".py",
   "mimetype": "text/x-python",
   "name": "python",
   "nbconvert_exporter": "python",
   "pygments_lexer": "ipython3",
   "version": "3.8.3"
  }
 },
 "nbformat": 4,
 "nbformat_minor": 2
}
